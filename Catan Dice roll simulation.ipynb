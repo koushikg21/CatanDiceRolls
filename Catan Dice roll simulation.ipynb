{
 "cells": [
  {
   "cell_type": "code",
   "execution_count": 396,
   "id": "be2082eb",
   "metadata": {},
   "outputs": [],
   "source": [
    "import random\n",
    "import seaborn as sns\n",
    "sns.set(rc={'figure.figsize':(11.7,8.27)})\n",
    "\n",
    "import matplotlib.pyplot as plt\n",
    "import numpy as np\n",
    "import pandas as pd\n",
    "import ipywidgets as widgets\n",
    "from ipywidgets import interactive\n",
    "from itertools import groupby"
   ]
  },
  {
   "cell_type": "code",
   "execution_count": 108,
   "id": "e72f8285",
   "metadata": {},
   "outputs": [],
   "source": [
    "graph_bins = [1, 2, 3, 4, 5, 6, 7, 8, 9, 10, 11, 12]"
   ]
  },
  {
   "cell_type": "code",
   "execution_count": 43,
   "id": "2b9a8e94",
   "metadata": {},
   "outputs": [],
   "source": [
    "dice1 = random.randint(1,6)\n",
    "dice2 = random.randint(1,6)"
   ]
  },
  {
   "cell_type": "code",
   "execution_count": 44,
   "id": "773bc5fd",
   "metadata": {},
   "outputs": [
    {
     "data": {
      "text/plain": [
       "9"
      ]
     },
     "execution_count": 44,
     "metadata": {},
     "output_type": "execute_result"
    }
   ],
   "source": [
    "dice1 + dice2"
   ]
  },
  {
   "cell_type": "code",
   "execution_count": 248,
   "id": "b459e0c1",
   "metadata": {},
   "outputs": [],
   "source": [
    "del(roll_value)"
   ]
  },
  {
   "cell_type": "code",
   "execution_count": 249,
   "id": "73f94685",
   "metadata": {},
   "outputs": [],
   "source": [
    "roll_value = []"
   ]
  },
  {
   "cell_type": "code",
   "execution_count": 250,
   "id": "6f7aad5b",
   "metadata": {},
   "outputs": [],
   "source": [
    "for i in range(500):\n",
    "        dice1 = random.randint(1,6)\n",
    "        dice2 = random.randint(1,6)\n",
    "        roll_value.append(dice1+dice2)"
   ]
  },
  {
   "cell_type": "code",
   "execution_count": 241,
   "id": "49505277",
   "metadata": {},
   "outputs": [],
   "source": [
    "total = len(roll_value)"
   ]
  },
  {
   "cell_type": "code",
   "execution_count": 251,
   "id": "5aaa05bf",
   "metadata": {},
   "outputs": [],
   "source": [
    "df = pd.DataFrame(columns = [\"Value\",\"Count\"])\n"
   ]
  },
  {
   "cell_type": "code",
   "execution_count": 252,
   "id": "e76a7171",
   "metadata": {},
   "outputs": [],
   "source": [
    "for col in range(0,11):\n",
    "    df.at[col,'Value'] = col + 2\n",
    "df.at[:,'Count'] = 0"
   ]
  },
  {
   "cell_type": "code",
   "execution_count": 254,
   "id": "15437eed",
   "metadata": {},
   "outputs": [],
   "source": [
    "for j in range(0,total):\n",
    "    dice = roll_value[j]\n",
    "    df['Count'] = np.where(df['Value'] == dice,df['Count']+1,df['Count'])\n",
    "    "
   ]
  },
  {
   "cell_type": "code",
   "execution_count": 256,
   "id": "eb9fca1f",
   "metadata": {
    "scrolled": true
   },
   "outputs": [
    {
     "data": {
      "text/plain": [
       "<AxesSubplot:xlabel='Value', ylabel='Count'>"
      ]
     },
     "execution_count": 256,
     "metadata": {},
     "output_type": "execute_result"
    },
    {
     "data": {
      "image/png": "[encoded data removed]",
      "text/plain": [
       "<Figure size 432x288 with 1 Axes>"
      ]
     },
     "metadata": {
      "needs_background": "light"
     },
     "output_type": "display_data"
    }
   ],
   "source": [
    "sns.barplot(x= 'Value', y = 'Count',color=\"gray\", data = df)"
   ]
  },
  {
   "cell_type": "code",
   "execution_count": null,
   "id": "59a4f197",
   "metadata": {},
   "outputs": [],
   "source": []
  },
  {
   "cell_type": "code",
   "execution_count": 482,
   "id": "1eb27749",
   "metadata": {},
   "outputs": [],
   "source": [
    "def f(n,trial_n):\n",
    "    \n",
    "    roll_value = []\n",
    "    df = pd.DataFrame(columns = [\"Value\",\"Count\"])\n",
    "    \n",
    "    for sim in range(trial_n):\n",
    "        \n",
    "        for i in range(n):\n",
    "            dice1 = random.randint(1,6)\n",
    "            dice2 = random.randint(1,6)\n",
    "            roll_value.append(dice1+dice2)\n",
    "            total = len(roll_value)\n",
    "         #   print(total)\n",
    "\n",
    "        for col in range(0,11):\n",
    "            df.at[col,'Value'] = col + 2\n",
    "            df.at[:,'Count'] = 0\n",
    "\n",
    "        for j in range(0,total):\n",
    "                    dice = roll_value[j]\n",
    "                    df['Count'] = np.where(df['Value'] == dice,df['Count']+1,df['Count'])\n",
    "                                    \n",
    "    return df                  \n",
    "                    "
   ]
  },
  {
   "cell_type": "code",
   "execution_count": 489,
   "id": "a7b8302e",
   "metadata": {},
   "outputs": [
    {
     "data": {
      "text/html": [
       "<div>\n",
       "<style scoped>\n",
       "    .dataframe tbody tr th:only-of-type {\n",
       "        vertical-align: middle;\n",
       "    }\n",
       "\n",
       "    .dataframe tbody tr th {\n",
       "        vertical-align: top;\n",
       "    }\n",
       "\n",
       "    .dataframe thead th {\n",
       "        text-align: right;\n",
       "    }\n",
       "</style>\n",
       "<table border=\"1\" class=\"dataframe\">\n",
       "  <thead>\n",
       "    <tr style=\"text-align: right;\">\n",
       "      <th></th>\n",
       "      <th>Value</th>\n",
       "      <th>Count</th>\n",
       "    </tr>\n",
       "  </thead>\n",
       "  <tbody>\n",
       "    <tr>\n",
       "      <th>0</th>\n",
       "      <td>2</td>\n",
       "      <td>1</td>\n",
       "    </tr>\n",
       "    <tr>\n",
       "      <th>1</th>\n",
       "      <td>3</td>\n",
       "      <td>4</td>\n",
       "    </tr>\n",
       "    <tr>\n",
       "      <th>2</th>\n",
       "      <td>4</td>\n",
       "      <td>5</td>\n",
       "    </tr>\n",
       "    <tr>\n",
       "      <th>3</th>\n",
       "      <td>5</td>\n",
       "      <td>8</td>\n",
       "    </tr>\n",
       "    <tr>\n",
       "      <th>4</th>\n",
       "      <td>6</td>\n",
       "      <td>10</td>\n",
       "    </tr>\n",
       "    <tr>\n",
       "      <th>5</th>\n",
       "      <td>7</td>\n",
       "      <td>4</td>\n",
       "    </tr>\n",
       "    <tr>\n",
       "      <th>6</th>\n",
       "      <td>8</td>\n",
       "      <td>11</td>\n",
       "    </tr>\n",
       "    <tr>\n",
       "      <th>7</th>\n",
       "      <td>9</td>\n",
       "      <td>9</td>\n",
       "    </tr>\n",
       "    <tr>\n",
       "      <th>8</th>\n",
       "      <td>10</td>\n",
       "      <td>7</td>\n",
       "    </tr>\n",
       "    <tr>\n",
       "      <th>9</th>\n",
       "      <td>11</td>\n",
       "      <td>0</td>\n",
       "    </tr>\n",
       "    <tr>\n",
       "      <th>10</th>\n",
       "      <td>12</td>\n",
       "      <td>1</td>\n",
       "    </tr>\n",
       "  </tbody>\n",
       "</table>\n",
       "</div>"
      ],
      "text/plain": [
       "   Value  Count\n",
       "0      2      1\n",
       "1      3      4\n",
       "2      4      5\n",
       "3      5      8\n",
       "4      6     10\n",
       "5      7      4\n",
       "6      8     11\n",
       "7      9      9\n",
       "8     10      7\n",
       "9     11      0\n",
       "10    12      1"
      ]
     },
     "execution_count": 489,
     "metadata": {},
     "output_type": "execute_result"
    }
   ],
   "source": [
    "f(60,1)"
   ]
  },
  {
   "cell_type": "code",
   "execution_count": 479,
   "id": "de6c58ab",
   "metadata": {},
   "outputs": [],
   "source": [
    "def f(n):\n",
    "    roll_value = []\n",
    "    df = pd.DataFrame(columns = [\"Value\",\"Count\"])\n",
    "    for i in range(n):\n",
    "        dice1 = random.randint(1,6)\n",
    "        dice2 = random.randint(1,6)\n",
    "        roll_value.append(dice1+dice2)\n",
    "        total = len(roll_value)\n",
    "     #   print(total)\n",
    "    \n",
    "    for col in range(0,11):\n",
    "        df.at[col,'Value'] = col + 2\n",
    "        df.at[:,'Count'] = 0\n",
    "    \n",
    "    for j in range(0,total):\n",
    "                dice = roll_value[j]\n",
    "                df['Count'] = np.where(df['Value'] == dice,df['Count']+1,df['Count'])\n",
    "                #print(df)\n",
    "            \n",
    "    final_plot = sns.barplot(x= 'Value', y = 'Count',color=\"gray\", data = df)        \n",
    "    final_plot.set_title('Dice Roll Distribution')\n",
    "    plt.xlabel('Dice Roll No')\n",
    "    plt.ylabel('Frequency')\n",
    "    \n",
    "    for p in final_plot.patches:\n",
    "             final_plot.annotate(\"%.0f\" % p.get_height(), (p.get_x() + p.get_width() / 2., p.get_height()),\n",
    "                 ha='center', va='center', fontsize=15, color='black', xytext=(0, 5),\n",
    "                 textcoords='offset points')\n",
    "            "
   ]
  },
  {
   "cell_type": "code",
   "execution_count": 455,
   "id": "554f4a89",
   "metadata": {},
   "outputs": [],
   "source": [
    "interactive_plot = interactive(f, n = [10,20,30,36,50,60,72,75,100,150,200,500, 10000, 20000])"
   ]
  },
  {
   "cell_type": "code",
   "execution_count": 456,
   "id": "81e0955b",
   "metadata": {
    "scrolled": false
   },
   "outputs": [
    {
     "data": {
      "application/vnd.jupyter.widget-view+json": {
       "model_id": "45bb3e7d39a04cd792605e00694e422b",
       "version_major": 2,
       "version_minor": 0
      },
      "text/plain": [
       "interactive(children=(Dropdown(description='n', options=(10, 20, 30, 36, 50, 60, 72, 75, 100, 150, 200, 500, 1…"
      ]
     },
     "metadata": {},
     "output_type": "display_data"
    }
   ],
   "source": [
    "interactive_plot"
   ]
  },
  {
   "cell_type": "markdown",
   "id": "2ba58d74",
   "metadata": {},
   "source": [
    "## Event cards"
   ]
  },
  {
   "cell_type": "code",
   "execution_count": 451,
   "id": "c8c72f48",
   "metadata": {},
   "outputs": [],
   "source": [
    "eventcard_array = [[2,1], [3,2] ,[4,3], [5,4], [6,5], [7,5], [8,5], [9,4],[10,3],[11,2],[12,1]]"
   ]
  },
  {
   "cell_type": "code",
   "execution_count": 452,
   "id": "b53d7040",
   "metadata": {},
   "outputs": [],
   "source": [
    "df_eventcards = pd.DataFrame(eventcard_array, columns = [\"Value\", \"Count\"])"
   ]
  },
  {
   "cell_type": "code",
   "execution_count": 453,
   "id": "ee474fbd",
   "metadata": {},
   "outputs": [
    {
     "data": {
      "text/html": [
       "<div>\n",
       "<style scoped>\n",
       "    .dataframe tbody tr th:only-of-type {\n",
       "        vertical-align: middle;\n",
       "    }\n",
       "\n",
       "    .dataframe tbody tr th {\n",
       "        vertical-align: top;\n",
       "    }\n",
       "\n",
       "    .dataframe thead th {\n",
       "        text-align: right;\n",
       "    }\n",
       "</style>\n",
       "<table border=\"1\" class=\"dataframe\">\n",
       "  <thead>\n",
       "    <tr style=\"text-align: right;\">\n",
       "      <th></th>\n",
       "      <th>Value</th>\n",
       "      <th>Count</th>\n",
       "    </tr>\n",
       "  </thead>\n",
       "  <tbody>\n",
       "    <tr>\n",
       "      <th>0</th>\n",
       "      <td>2</td>\n",
       "      <td>1</td>\n",
       "    </tr>\n",
       "    <tr>\n",
       "      <th>1</th>\n",
       "      <td>3</td>\n",
       "      <td>2</td>\n",
       "    </tr>\n",
       "    <tr>\n",
       "      <th>2</th>\n",
       "      <td>4</td>\n",
       "      <td>3</td>\n",
       "    </tr>\n",
       "    <tr>\n",
       "      <th>3</th>\n",
       "      <td>5</td>\n",
       "      <td>4</td>\n",
       "    </tr>\n",
       "    <tr>\n",
       "      <th>4</th>\n",
       "      <td>6</td>\n",
       "      <td>5</td>\n",
       "    </tr>\n",
       "    <tr>\n",
       "      <th>5</th>\n",
       "      <td>7</td>\n",
       "      <td>5</td>\n",
       "    </tr>\n",
       "    <tr>\n",
       "      <th>6</th>\n",
       "      <td>8</td>\n",
       "      <td>5</td>\n",
       "    </tr>\n",
       "    <tr>\n",
       "      <th>7</th>\n",
       "      <td>9</td>\n",
       "      <td>4</td>\n",
       "    </tr>\n",
       "    <tr>\n",
       "      <th>8</th>\n",
       "      <td>10</td>\n",
       "      <td>3</td>\n",
       "    </tr>\n",
       "    <tr>\n",
       "      <th>9</th>\n",
       "      <td>11</td>\n",
       "      <td>2</td>\n",
       "    </tr>\n",
       "    <tr>\n",
       "      <th>10</th>\n",
       "      <td>12</td>\n",
       "      <td>1</td>\n",
       "    </tr>\n",
       "  </tbody>\n",
       "</table>\n",
       "</div>"
      ],
      "text/plain": [
       "    Value  Count\n",
       "0       2      1\n",
       "1       3      2\n",
       "2       4      3\n",
       "3       5      4\n",
       "4       6      5\n",
       "5       7      5\n",
       "6       8      5\n",
       "7       9      4\n",
       "8      10      3\n",
       "9      11      2\n",
       "10     12      1"
      ]
     },
     "execution_count": 453,
     "metadata": {},
     "output_type": "execute_result"
    }
   ],
   "source": [
    "df_eventcards"
   ]
  },
  {
   "cell_type": "code",
   "execution_count": 457,
   "id": "6232c2ad",
   "metadata": {},
   "outputs": [
    {
     "data": {
      "image/png": "[encoded data removed]",
      "text/plain": [
       "<Figure size 842.4x595.44 with 1 Axes>"
      ]
     },
     "metadata": {},
     "output_type": "display_data"
    }
   ],
   "source": [
    "eventcard_plot = sns.barplot(x= 'Value', y = 'Count',color=\"gray\", data = df_eventcards)        \n",
    "for p in eventcard_plot.patches:\n",
    "             eventcard_plot.annotate(\"%.0f\" % p.get_height(), (p.get_x() + p.get_width() / 2., p.get_height()),\n",
    "                 ha='center', va='center', fontsize=15, color='black', xytext=(0, 5),\n",
    "                 textcoords='offset points')"
   ]
  }
 ],
 "metadata": {
  "kernelspec": {
   "display_name": "Python 3",
   "language": "python",
   "name": "python3"
  },
  "language_info": {
   "codemirror_mode": {
    "name": "ipython",
    "version": 3
   },
   "file_extension": ".py",
   "mimetype": "text/x-python",
   "name": "python",
   "nbconvert_exporter": "python",
   "pygments_lexer": "ipython3",
   "version": "3.7.10"
  }
 },
 "nbformat": 4,
 "nbformat_minor": 5
}
